{
 "cells": [
  {
   "cell_type": "code",
   "execution_count": null,
   "id": "dfd76f13",
   "metadata": {},
   "outputs": [],
   "source": [
    "%matplotlib notebook\n",
    "%load_ext autoreload\n",
    "%autoreload 2"
   ]
  },
  {
   "cell_type": "code",
   "execution_count": null,
   "id": "ffbeecf3",
   "metadata": {},
   "outputs": [],
   "source": [
    "import cvxpy as cp\n",
    "import numpy as np\n",
    "from gcspy import GraphOfConvexSets"
   ]
  },
  {
   "cell_type": "code",
   "execution_count": null,
   "id": "9d1746f9",
   "metadata": {},
   "outputs": [],
   "source": [
    "gcs = GraphOfConvexSets()\n",
    "\n",
    "n = 4\n",
    "for i in range(n):\n",
    "    for j in range(n):\n",
    "        v = gcs.add_vertex(f\"v{(i,j)}\")\n",
    "        x = v.add_variable(2)\n",
    "        c = np.array([i, j])\n",
    "        v.add_constraint(cp.norm(x - c, 2) <= .25)\n",
    "        d = v.add_variable(1)\n",
    "        if i == j == 0:\n",
    "            v.add_constraint(d == 1)\n",
    "        else:\n",
    "            v.add_constraint(d >= 2)\n",
    "            v.add_constraint(d <= n ** 2)"
   ]
  },
  {
   "cell_type": "code",
   "execution_count": null,
   "id": "556a4ed5",
   "metadata": {},
   "outputs": [],
   "source": [
    "for tail in gcs.vertices:\n",
    "    for head in gcs.vertices:\n",
    "        if tail != head:\n",
    "            edge = gcs.add_edge(tail, head)\n",
    "            edge.add_cost(cp.norm(head.variables[0] - tail.variables[0], 2))\n",
    "            edge.add_constraint(head.variables[1] == tail.variables[1] + 1)"
   ]
  },
  {
   "cell_type": "code",
   "execution_count": null,
   "id": "297d5495",
   "metadata": {},
   "outputs": [],
   "source": [
    "prob = gcs.solve_spanning_tree(gcs.vertices[0], subtour_elimination=False)\n",
    "print('Problem status:', prob.status)\n",
    "print('Optimal value:', prob.value)"
   ]
  },
  {
   "cell_type": "code",
   "execution_count": null,
   "id": "5d8f96ac",
   "metadata": {},
   "outputs": [],
   "source": [
    "import matplotlib.pyplot as plt\n",
    "plt.figure()\n",
    "plt.axis(\"equal\")\n",
    "plt.axis('off')\n",
    "gcs.plot_2d()\n",
    "gcs.plot_subgraph_2d()\n",
    "# plt.savefig('spanning_tree.pdf')"
   ]
  }
 ],
 "metadata": {
  "kernelspec": {
   "display_name": "Python 3",
   "language": "python",
   "name": "python3"
  },
  "language_info": {
   "codemirror_mode": {
    "name": "ipython",
    "version": 3
   },
   "file_extension": ".py",
   "mimetype": "text/x-python",
   "name": "python",
   "nbconvert_exporter": "python",
   "pygments_lexer": "ipython3",
   "version": "3.12.8"
  }
 },
 "nbformat": 4,
 "nbformat_minor": 5
}
