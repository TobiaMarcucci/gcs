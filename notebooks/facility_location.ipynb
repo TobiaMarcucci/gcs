{
 "cells": [
  {
   "cell_type": "code",
   "execution_count": null,
   "id": "dfd76f13",
   "metadata": {},
   "outputs": [],
   "source": [
    "%matplotlib ipympl\n",
    "%load_ext autoreload\n",
    "%autoreload 2"
   ]
  },
  {
   "cell_type": "code",
   "execution_count": null,
   "id": "ffbeecf3",
   "metadata": {},
   "outputs": [],
   "source": [
    "import cvxpy as cp\n",
    "import numpy as np\n",
    "from gcspy import GraphOfConvexPrograms"
   ]
  },
  {
   "cell_type": "code",
   "execution_count": null,
   "id": "9d1746f9",
   "metadata": {},
   "outputs": [],
   "source": [
    "graph = GraphOfConvexPrograms()\n",
    "\n",
    "f1 = graph.add_vertex(\"f1\")\n",
    "xf1 = f1.add_variable(2)\n",
    "cf1 = np.array([3, 2.5])\n",
    "f1.add_constraint(cp.norm_inf(xf1 - cf1) <= .5)\n",
    "\n",
    "f2 = graph.add_vertex(\"f2\")\n",
    "xf2 = f2.add_variable(2)\n",
    "cf2 = np.array([3, -1])\n",
    "Df2 = np.diag([2, .5])\n",
    "f2.add_constraint(cp.norm_inf(Df2 @ (xf2 - cf2)) <= 1)\n",
    "\n",
    "u1 = graph.add_vertex(\"u1\")\n",
    "xu1 = u1.add_variable(2)\n",
    "cu1 = np.array([0, .5])\n",
    "u1.add_constraint(cp.norm2(xu1 - cu1) <= .5)\n",
    "\n",
    "u2 = graph.add_vertex(\"u2\")\n",
    "xu2 = u2.add_variable(2)\n",
    "cu2 = np.array([0, -1])\n",
    "u2.add_constraint(cp.norm2(xu2 - cu2) <= .5)\n",
    "\n",
    "u3 = graph.add_vertex(\"u3\")\n",
    "xu3 = u3.add_variable(2)\n",
    "cu3 = np.array([0, -2.5])\n",
    "u3.add_constraint(cp.norm2(xu3 - cu3) <= .5)"
   ]
  },
  {
   "cell_type": "code",
   "execution_count": null,
   "id": "7816b994",
   "metadata": {},
   "outputs": [],
   "source": [
    "facilities = [f1, f2]\n",
    "users = [u1, u2, u3]\n",
    "for facility in facilities:\n",
    "    for user in users:\n",
    "        edge = graph.add_edge(facility, user)\n",
    "        edge.add_cost(cp.norm2(facility.variables[0] - user.variables[0]))"
   ]
  },
  {
   "cell_type": "code",
   "execution_count": null,
   "id": "c9bda818",
   "metadata": {},
   "outputs": [],
   "source": [
    "graph.graphviz()"
   ]
  },
  {
   "cell_type": "code",
   "execution_count": null,
   "id": "e0e37c42",
   "metadata": {},
   "outputs": [],
   "source": [
    "prob = graph.solve_facility_location()\n",
    "print('Problem status:', prob.status)\n",
    "print('Optimal value:', prob.value)"
   ]
  },
  {
   "cell_type": "code",
   "execution_count": null,
   "id": "5d8f96ac",
   "metadata": {},
   "outputs": [],
   "source": [
    "import matplotlib.pyplot as plt\n",
    "plt.figure()\n",
    "plt.axis(\"equal\")\n",
    "plt.axis('off')\n",
    "graph.plot_2d()\n",
    "graph.plot_2d_subgraph()"
   ]
  },
  {
   "cell_type": "markdown",
   "id": "95b57fac",
   "metadata": {},
   "source": [
    "# From ILP"
   ]
  },
  {
   "cell_type": "code",
   "execution_count": null,
   "id": "06c53806",
   "metadata": {},
   "outputs": [],
   "source": [
    "ilp_constraints = []\n",
    "yv = graph.vertex_binaries()\n",
    "ye = graph.edge_binaries()\n",
    "\n",
    "for i, v in enumerate(graph.vertices):\n",
    "    inc_edges = graph.incoming_indices(v)\n",
    "    if len(inc_edges) == 0:\n",
    "        ilp_constraints.append(yv[i] <= 1)\n",
    "    else:\n",
    "        ilp_constraints.append(yv[i] == 1)\n",
    "        ilp_constraints.append(sum(ye[inc_edges]) == 1)\n",
    "        \n",
    "for k, edge in enumerate(graph.edges):\n",
    "    i = graph.vertex_index(edge.tail)\n",
    "    ilp_constraints.append(yv[i] >= ye[k])"
   ]
  },
  {
   "cell_type": "code",
   "execution_count": null,
   "id": "94cd45df",
   "metadata": {},
   "outputs": [],
   "source": [
    "prob = graph.solve_from_ilp(ilp_constraints)\n",
    "print('Problem status:', prob.status)\n",
    "print('Optimal value:', prob.value)"
   ]
  }
 ],
 "metadata": {
  "kernelspec": {
   "display_name": "Python 3",
   "language": "python",
   "name": "python3"
  },
  "language_info": {
   "codemirror_mode": {
    "name": "ipython",
    "version": 3
   },
   "file_extension": ".py",
   "mimetype": "text/x-python",
   "name": "python",
   "nbconvert_exporter": "python",
   "pygments_lexer": "ipython3",
   "version": "3.12.8"
  }
 },
 "nbformat": 4,
 "nbformat_minor": 5
}
