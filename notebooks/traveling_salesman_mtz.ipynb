{
 "cells": [
  {
   "cell_type": "code",
   "execution_count": null,
   "id": "dfd76f13",
   "metadata": {},
   "outputs": [],
   "source": [
    "%matplotlib ipympl\n",
    "%load_ext autoreload\n",
    "%autoreload 2"
   ]
  },
  {
   "cell_type": "code",
   "execution_count": null,
   "id": "ffbeecf3",
   "metadata": {},
   "outputs": [],
   "source": [
    "import cvxpy as cp\n",
    "import numpy as np\n",
    "from gcspy import GraphOfConvexPrograms"
   ]
  },
  {
   "cell_type": "code",
   "execution_count": null,
   "id": "9d1746f9",
   "metadata": {},
   "outputs": [],
   "source": [
    "graph = GraphOfConvexPrograms()\n",
    "\n",
    "v1 = graph.add_vertex(\"v1\")\n",
    "x1 = v1.add_variable(2)\n",
    "c1 = np.array([-3, 0])\n",
    "v1.add_constraint(cp.norm_inf(x1 - c1) <= 1)\n",
    "o1 = v1.add_variable(1)\n",
    "v1.add_constraint(o1 == 1)\n",
    "\n",
    "v2 = graph.add_vertex(\"v2\")\n",
    "x2 = v2.add_variable(2)\n",
    "c2 = np.array([0, 2.5])\n",
    "D2 = np.diag([.25, 2])\n",
    "v2.add_constraint(cp.norm_inf(D2 @ (x2 - c2)) <= 1)\n",
    "o2 = v2.add_variable(1)\n",
    "v2.add_constraint(o2 >= 2)\n",
    "\n",
    "v3 = graph.add_vertex(\"v3\")\n",
    "x3 = v3.add_variable(2)\n",
    "c3 = np.array([3, 0])\n",
    "v3.add_constraint(cp.norm2(x3 - c3) <= 1)\n",
    "o3 = v3.add_variable(1)\n",
    "v3.add_constraint(o3 >= 2)\n",
    "\n",
    "v4 = graph.add_vertex(\"v4\")\n",
    "x4 = v4.add_variable(2)\n",
    "c4 = np.array([0, -2.5])\n",
    "D4 = np.diag([1, 2])\n",
    "v4.add_constraint(cp.norm2(D4 @ (x4 - c4)) <= 1)\n",
    "o4 = v4.add_variable(1)\n",
    "v4.add_constraint(o4 >= 2)\n",
    "\n",
    "v5 = graph.add_vertex(\"v5\")\n",
    "x5 = v5.add_variable(2)\n",
    "c5 = np.array([.3, .3])\n",
    "v5.add_constraint(cp.norm1(x5 - c5) <= 1)\n",
    "o5 = v5.add_variable(1)\n",
    "v5.add_constraint(o5 >= 2)\n",
    "\n",
    "for v in graph.vertices:\n",
    "    o = v.variables[-1]\n",
    "    v.add_constraint(o <= graph.num_vertices())"
   ]
  },
  {
   "cell_type": "code",
   "execution_count": null,
   "id": "7816b994",
   "metadata": {},
   "outputs": [],
   "source": [
    "for tail in graph.vertices:\n",
    "    for head in graph.vertices:\n",
    "        if tail != head:\n",
    "            edge = graph.add_edge(tail, head)\n",
    "            edge.add_cost(cp.norm(tail.variables[0] - head.variables[0], 2))\n",
    "            if head.name != \"v1\":\n",
    "                edge.add_constraint(head.variables[1] == tail.variables[1] + 1)"
   ]
  },
  {
   "cell_type": "code",
   "execution_count": null,
   "id": "c9bda818",
   "metadata": {},
   "outputs": [],
   "source": [
    "graph.graphviz()"
   ]
  },
  {
   "cell_type": "code",
   "execution_count": null,
   "id": "e0e37c42",
   "metadata": {},
   "outputs": [],
   "source": [
    "prob = graph.solve_traveling_salesman(subtour_elimination=False)\n",
    "print('Problem status:', prob.status)\n",
    "print('Optimal value:', prob.value)"
   ]
  },
  {
   "cell_type": "code",
   "execution_count": null,
   "id": "5d8f96ac",
   "metadata": {},
   "outputs": [],
   "source": [
    "import matplotlib.pyplot as plt\n",
    "plt.figure()\n",
    "plt.axis(\"equal\")\n",
    "plt.axis('off')\n",
    "graph.plot_2d()\n",
    "graph.plot_2d_subgraph()"
   ]
  }
 ],
 "metadata": {
  "kernelspec": {
   "display_name": "Python 3",
   "language": "python",
   "name": "python3"
  },
  "language_info": {
   "codemirror_mode": {
    "name": "ipython",
    "version": 3
   },
   "file_extension": ".py",
   "mimetype": "text/x-python",
   "name": "python",
   "nbconvert_exporter": "python",
   "pygments_lexer": "ipython3",
   "version": "3.12.8"
  }
 },
 "nbformat": 4,
 "nbformat_minor": 5
}
