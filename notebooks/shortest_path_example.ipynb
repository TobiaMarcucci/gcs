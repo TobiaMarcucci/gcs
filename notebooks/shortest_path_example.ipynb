{
 "cells": [
  {
   "cell_type": "code",
   "execution_count": null,
   "id": "dfd76f13",
   "metadata": {},
   "outputs": [],
   "source": [
    "%matplotlib ipympl\n",
    "%load_ext autoreload\n",
    "%autoreload 2"
   ]
  },
  {
   "cell_type": "code",
   "execution_count": null,
   "id": "ffbeecf3",
   "metadata": {},
   "outputs": [],
   "source": [
    "import cvxpy as cp\n",
    "from gcspy import GraphOfConvexPrograms"
   ]
  },
  {
   "cell_type": "code",
   "execution_count": null,
   "id": "f63cc21f",
   "metadata": {},
   "outputs": [],
   "source": [
    "# initialize graph\n",
    "graph = GraphOfConvexPrograms()\n",
    "\n",
    "# add vertices on a 2d grid\n",
    "grid_side = 3 # number of vertices per side of the grid\n",
    "radius = .3 # radius of the convex sets\n",
    "for i in range(grid_side):\n",
    "    for j in range(grid_side):\n",
    "        center = (i, j) # center of the convex set\n",
    "        vertex = graph.add_vertex(center) # vertex named as its center\n",
    "        x = vertex.add_variable(2) # vertex variable\n",
    "        vertex.add_constraint(cp.norm2(x - center) <= radius) # vertex constraint"
   ]
  },
  {
   "cell_type": "code",
   "execution_count": null,
   "id": "cc5c7b46",
   "metadata": {},
   "outputs": [],
   "source": [
    "# each edge connects two vertices with the following coordinates\n",
    "tail_names = [(0, 0), (0, 1), (0, 1), (1, 0), (1, 1), (1, 1), (1, 1), (1, 2), (1, 2), (2, 0), (2, 1), (2, 1)]\n",
    "head_names = [(1, 0), (0, 0), (0, 2), (2, 0), (1, 0), (0, 1), (1, 2), (0, 2), (2, 2), (2, 1), (1, 1), (2, 2)]\n",
    "\n",
    "# add all the edges to the graph\n",
    "for tail_name, head_name in zip(tail_names, head_names):\n",
    "    tail = graph.get_vertex(tail_name)\n",
    "    head = graph.get_vertex(head_name)\n",
    "    edge = graph.add_edge(tail, head)\n",
    "    x_tail = tail.variables[0]\n",
    "    x_head = head.variables[0]\n",
    "    edge.add_cost(cp.norm2(x_head - x_tail))"
   ]
  },
  {
   "cell_type": "code",
   "execution_count": null,
   "id": "5512ea29",
   "metadata": {},
   "outputs": [],
   "source": [
    "# define source and target of shortest path problem\n",
    "source = graph.get_vertex((0, 0))\n",
    "target = graph.get_vertex((0, 2))\n",
    "\n",
    "# solve shortest path problem and print result\n",
    "prob = graph.solve_shortest_path(source, target)\n",
    "print('Problem status:', prob.status)\n",
    "print('Optimal value:', prob.value)"
   ]
  },
  {
   "cell_type": "code",
   "execution_count": null,
   "id": "0b6bf40a",
   "metadata": {},
   "outputs": [],
   "source": [
    "# plot result\n",
    "import matplotlib.pyplot as plt\n",
    "plt.figure()\n",
    "plt.axis(\"equal\")\n",
    "graph.plot_2d()\n",
    "graph.plot_subgraph_2d()"
   ]
  }
 ],
 "metadata": {
  "kernelspec": {
   "display_name": "Python 3",
   "language": "python",
   "name": "python3"
  },
  "language_info": {
   "codemirror_mode": {
    "name": "ipython",
    "version": 3
   },
   "file_extension": ".py",
   "mimetype": "text/x-python",
   "name": "python",
   "nbconvert_exporter": "python",
   "pygments_lexer": "ipython3",
   "version": "3.12.8"
  }
 },
 "nbformat": 4,
 "nbformat_minor": 5
}
