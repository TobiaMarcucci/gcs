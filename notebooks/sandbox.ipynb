{
 "cells": [
  {
   "cell_type": "code",
   "execution_count": 9,
   "id": "dfd76f13",
   "metadata": {},
   "outputs": [
    {
     "name": "stdout",
     "output_type": "stream",
     "text": [
      "The autoreload extension is already loaded. To reload it, use:\n",
      "  %reload_ext autoreload\n"
     ]
    }
   ],
   "source": [
    "%matplotlib notebook\n",
    "%load_ext autoreload\n",
    "%autoreload 2"
   ]
  },
  {
   "cell_type": "code",
   "execution_count": 10,
   "id": "bc289196",
   "metadata": {},
   "outputs": [],
   "source": [
    "import cvxpy as cp\n",
    "import numpy as np\n",
    "from gcspy import GraphOfConvexPrograms"
   ]
  },
  {
   "cell_type": "code",
   "execution_count": 3,
   "id": "eeadebe2",
   "metadata": {},
   "outputs": [
    {
     "name": "stdout",
     "output_type": "stream",
     "text": [
      "<gcspy.vertices.ConvexVertex object at 0x1348aacf0>\n",
      "<gcspy.vertices.ConvexVertex object at 0x112cd11f0>\n",
      "<gcspy.vertices.ConvexVertex object at 0x17a641eb0>\n",
      "<gcspy.vertices.ConvexVertex object at 0x11f274590>\n",
      "<gcspy.vertices.ConvexVertex object at 0x17a642510>\n",
      "<gcspy.vertices.ConvexVertex object at 0x17a6428a0>\n",
      "<gcspy.vertices.ConvexVertex object at 0x17a6421b0>\n",
      "<gcspy.vertices.ConvexVertex object at 0x17a642f60>\n",
      "<gcspy.vertices.ConvexVertex object at 0x17a6432c0>\n"
     ]
    }
   ],
   "source": [
    "graph = GraphOfConvexPrograms()\n",
    "\n",
    "n = 3\n",
    "for i in range(n):\n",
    "    for j in range(n):\n",
    "        v = graph.add_vertex((i,j))\n",
    "        print(v)\n",
    "        x = v.add_variable(2)\n",
    "        c = np.array([i, j])\n",
    "        v.add_constraint(cp.norm(x - c, 2) <= .3)"
   ]
  },
  {
   "cell_type": "code",
   "execution_count": 7,
   "id": "c1a73fc7",
   "metadata": {},
   "outputs": [],
   "source": [
    "x = cp.Variable(9)"
   ]
  },
  {
   "cell_type": "code",
   "execution_count": 8,
   "id": "91ec099c",
   "metadata": {},
   "outputs": [
    {
     "ename": "TypeError",
     "evalue": "Expression.reshape() got multiple values for argument 'order'",
     "output_type": "error",
     "traceback": [
      "\u001b[0;31m---------------------------------------------------------------------------\u001b[0m",
      "\u001b[0;31mTypeError\u001b[0m                                 Traceback (most recent call last)",
      "Cell \u001b[0;32mIn[8], line 1\u001b[0m\n\u001b[0;32m----> 1\u001b[0m \u001b[43mx\u001b[49m\u001b[38;5;241;43m.\u001b[39;49m\u001b[43mreshape\u001b[49m\u001b[43m(\u001b[49m\u001b[38;5;241;43m3\u001b[39;49m\u001b[43m,\u001b[49m\u001b[43m \u001b[49m\u001b[38;5;241;43m-\u001b[39;49m\u001b[38;5;241;43m1\u001b[39;49m\u001b[43m,\u001b[49m\u001b[43m \u001b[49m\u001b[43morder\u001b[49m\u001b[38;5;241;43m=\u001b[39;49m\u001b[38;5;124;43m'\u001b[39;49m\u001b[38;5;124;43mC\u001b[39;49m\u001b[38;5;124;43m'\u001b[39;49m\u001b[43m)\u001b[49m\n",
      "\u001b[0;31mTypeError\u001b[0m: Expression.reshape() got multiple values for argument 'order'"
     ]
    }
   ],
   "source": [
    "x.reshape(3, -1, order='C')"
   ]
  },
  {
   "cell_type": "code",
   "execution_count": null,
   "id": "711a5e88",
   "metadata": {},
   "outputs": [],
   "source": []
  },
  {
   "cell_type": "code",
   "execution_count": null,
   "id": "bedd585e",
   "metadata": {},
   "outputs": [],
   "source": []
  },
  {
   "cell_type": "code",
   "execution_count": null,
   "id": "489afcb8",
   "metadata": {},
   "outputs": [],
   "source": []
  },
  {
   "cell_type": "code",
   "execution_count": null,
   "id": "8316dd76",
   "metadata": {},
   "outputs": [],
   "source": []
  },
  {
   "cell_type": "code",
   "execution_count": null,
   "id": "77635075",
   "metadata": {},
   "outputs": [],
   "source": []
  },
  {
   "cell_type": "code",
   "execution_count": null,
   "id": "208622e9",
   "metadata": {},
   "outputs": [],
   "source": [
    "import numpy as np\n",
    "import cvxpy as cp"
   ]
  },
  {
   "cell_type": "code",
   "execution_count": 11,
   "id": "9b8b4897",
   "metadata": {},
   "outputs": [],
   "source": [
    "x = cp.Variable(3, nonneg=True)\n",
    "y = cp.Variable(2, nonneg=True)\n",
    "X = cp.Variable((3, 3), PSD=True)\n",
    "Y = cp.Variable((3, 4))\n",
    "cost = cp.norm2(x + 2) + cp.sum_squares(y + 3) + 3 - cp.log_det(X) + X[0, 2] + cp.max(Y[0])\n",
    "constraints = [x >= -3, y <= 3, X[0, 1] == 1, Y == np.ones(Y.shape)]\n",
    "constraints.append(y >= 0)\n",
    "prob = cp.Problem(cp.Minimize(cost), constraints)"
   ]
  },
  {
   "cell_type": "code",
   "execution_count": 12,
   "id": "d6cf3b49",
   "metadata": {},
   "outputs": [],
   "source": [
    "if not prob.is_dcp():\n",
    "    raise ValueError(f\"Convex program is not DCP.\")\n",
    "solver_opts = {\"use_quad_obj\": False}\n",
    "chain = prob._construct_chain(solver_opts=solver_opts)\n",
    "chain.reductions = chain.reductions[:-1]\n",
    "conic_prob = chain.apply(prob)[0]"
   ]
  },
  {
   "cell_type": "code",
   "execution_count": 13,
   "id": "9229c1fb",
   "metadata": {},
   "outputs": [
    {
     "data": {
      "text/plain": [
       "{145: 0, 153: 1, 177: 2, 87: 5, 186: 11, 85: 12, 86: 15, 164: 17, 88: 23}"
      ]
     },
     "execution_count": 13,
     "metadata": {},
     "output_type": "execute_result"
    }
   ],
   "source": [
    "conic_prob.var_id_to_col"
   ]
  },
  {
   "cell_type": "code",
   "execution_count": null,
   "id": "70830c43",
   "metadata": {},
   "outputs": [],
   "source": [
    "var_id_to_cols = {}\n",
    "for variable in conic_prob.variables:\n",
    "    start = conic_prob.var_id_to_col[variable.id]\n",
    "    stop = start + variable.size\n",
    "    var_id_to_cols[variable.id] = range(start, stop)\n",
    "var_id_to_cols"
   ]
  },
  {
   "cell_type": "code",
   "execution_count": null,
   "id": "516546cd",
   "metadata": {},
   "outputs": [],
   "source": [
    "{3, 4} == {4, 3}"
   ]
  },
  {
   "cell_type": "code",
   "execution_count": null,
   "id": "cbc32d56",
   "metadata": {},
   "outputs": [],
   "source": [
    "x = cp.Variable(boolean=True)\n",
    "x"
   ]
  },
  {
   "cell_type": "code",
   "execution_count": null,
   "id": "49b5dee4",
   "metadata": {},
   "outputs": [],
   "source": [
    "x.attributes['boolean'] = False\n",
    "x"
   ]
  },
  {
   "cell_type": "code",
   "execution_count": null,
   "id": "cbcb9123",
   "metadata": {},
   "outputs": [],
   "source": []
  },
  {
   "cell_type": "code",
   "execution_count": null,
   "id": "151ee3e3",
   "metadata": {},
   "outputs": [],
   "source": [
    "conic_prob.var_id_to_col\n",
    "lst = list(conic_prob.var_id_to_col.items())\n",
    "sorted_lst = sorted(lst, key=lambda x: x[1])\n",
    "sorted_lst"
   ]
  },
  {
   "cell_type": "code",
   "execution_count": null,
   "id": "a0a1a6c2",
   "metadata": {},
   "outputs": [],
   "source": [
    "prob = cp.Problem(cp.Minimize(convex_prog.cost), convex_prog.constraints)\n",
    "solver_opts = {\"use_quad_obj\": False}\n",
    "chain = prob._construct_chain(solver_opts=solver_opts)\n",
    "chain.reductions = chain.reductions[:-1]\n",
    "conic_prob = chain.apply(prob)[0]"
   ]
  },
  {
   "cell_type": "code",
   "execution_count": null,
   "id": "34dd57d5",
   "metadata": {},
   "outputs": [],
   "source": [
    "cols = conic_prob.c.shape[0]\n",
    "aaa = conic_prob.A.toarray().reshape((-1, cols), order='F')\n",
    "aaa.shape"
   ]
  },
  {
   "cell_type": "code",
   "execution_count": null,
   "id": "bb9b9522",
   "metadata": {},
   "outputs": [],
   "source": [
    "cp.sum(cp.Variable())"
   ]
  },
  {
   "cell_type": "code",
   "execution_count": null,
   "id": "c4c0cd63",
   "metadata": {},
   "outputs": [],
   "source": [
    "for constraint in conic_prob.constraints:\n",
    "    print(type(constraint), constraint.size)"
   ]
  },
  {
   "cell_type": "code",
   "execution_count": null,
   "id": "19b6bae2",
   "metadata": {},
   "outputs": [],
   "source": [
    "conic_prog, get_var_value = convex_prog.to_conic_program()\n",
    "conic_value, conic_var_values = conic_prog._solve()\n",
    "print(conic_value)"
   ]
  },
  {
   "cell_type": "code",
   "execution_count": null,
   "id": "e4ab7f41",
   "metadata": {},
   "outputs": [],
   "source": [
    "from pytest import assertNotAlmostEqual"
   ]
  },
  {
   "cell_type": "code",
   "execution_count": null,
   "id": "d4127b42",
   "metadata": {},
   "outputs": [],
   "source": [
    "[Ai.shape for Ai in conic_prog.A]"
   ]
  },
  {
   "cell_type": "code",
   "execution_count": null,
   "id": "487acd08",
   "metadata": {},
   "outputs": [],
   "source": [
    "import matplotlib.pyplot as plt\n",
    "\n",
    "# Sample unit circle\n",
    "theta = np.linspace(0, 2 * np.pi, 400)\n",
    "u = np.vstack((np.cos(theta), np.sin(theta)))  # shape (2, N)\n",
    "\n",
    "# Invert A to get x = A^{-1}(u - b)\n",
    "A_inv = np.linalg.inv(A.value)\n",
    "x = A_inv @ (u - b.value[:, np.newaxis])  # shape (2, N)\n",
    "\n",
    "# Plot\n",
    "plt.figure()\n",
    "plt.plot(x[0, :], x[1, :])\n",
    "plt.grid()"
   ]
  }
 ],
 "metadata": {
  "kernelspec": {
   "display_name": "Python 3",
   "language": "python",
   "name": "python3"
  },
  "language_info": {
   "codemirror_mode": {
    "name": "ipython",
    "version": 3
   },
   "file_extension": ".py",
   "mimetype": "text/x-python",
   "name": "python",
   "nbconvert_exporter": "python",
   "pygments_lexer": "ipython3",
   "version": "3.12.8"
  }
 },
 "nbformat": 4,
 "nbformat_minor": 5
}
