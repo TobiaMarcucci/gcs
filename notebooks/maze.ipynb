{
 "cells": [
  {
   "cell_type": "code",
   "execution_count": null,
   "id": "dfd76f13",
   "metadata": {},
   "outputs": [],
   "source": [
    "%matplotlib notebook\n",
    "%load_ext autoreload\n",
    "%autoreload 2"
   ]
  },
  {
   "cell_type": "code",
   "execution_count": null,
   "id": "ffbeecf3",
   "metadata": {},
   "outputs": [],
   "source": [
    "import cvxpy as cp\n",
    "import numpy as np\n",
    "from utils.maze import Maze\n",
    "from gcspy import GraphOfConvexSets"
   ]
  },
  {
   "cell_type": "code",
   "execution_count": null,
   "id": "edda7f7f",
   "metadata": {},
   "outputs": [],
   "source": [
    "maze_size = 20\n",
    "knock_downs = 10\n",
    "\n",
    "maze = Maze(maze_size, maze_size)\n",
    "maze.make_maze()\n",
    "maze.knock_down_walls(knock_downs)"
   ]
  },
  {
   "cell_type": "code",
   "execution_count": null,
   "id": "288b8639",
   "metadata": {},
   "outputs": [],
   "source": [
    "gcs = GraphOfConvexSets()\n",
    "\n",
    "start = [0.5, 0]\n",
    "goal = [maze_size - 0.5, maze_size]\n",
    "for i in range(maze_size):\n",
    "    for j in range(maze_size):\n",
    "        v = gcs.add_vertex(f\"v{(i, j)}\")\n",
    "        x1 = v.add_variable(2)\n",
    "        x2 = v.add_variable(2)\n",
    "        v.add_cost(cp.norm(x2 - x1, 2))\n",
    "        if i == 0 and j == 0:\n",
    "            v.add_constraint(x1 == start)\n",
    "        else:\n",
    "            v.add_constraint(x1 >= [i, j])\n",
    "            v.add_constraint(x1 <= [i + 1, j + 1])\n",
    "        if i == maze_size - 1 and j == maze_size - 1:\n",
    "            v.add_constraint(x2 == goal)\n",
    "        else:\n",
    "            v.add_constraint(x2 >= [i, j])\n",
    "            v.add_constraint(x2 <= [i + 1, j + 1])\n",
    "        \n",
    "for i in range(maze_size):\n",
    "    for j in range(maze_size):\n",
    "        cell = maze.get_cell(i, j)\n",
    "        v = gcs.get_vertex_by_name(f\"v{(i, j)}\")\n",
    "        for direction, (di, dj) in maze.directions.items():\n",
    "            if not cell.walls[direction]:\n",
    "                name = f\"v{(i + di, j + dj)}\"\n",
    "                w = gcs.get_vertex_by_name(name)\n",
    "                e = gcs.add_edge(v, w)\n",
    "                e.add_constraint(v.variables[1] == w.variables[0])"
   ]
  },
  {
   "cell_type": "code",
   "execution_count": null,
   "id": "46d02adf",
   "metadata": {},
   "outputs": [],
   "source": [
    "s = gcs.get_vertex_by_name(f\"v{(0, 0)}\")\n",
    "t = gcs.get_vertex_by_name(f\"v{(maze_size - 1, maze_size - 1)}\")\n",
    "prob = gcs.solve_shortest_path(s, t)\n",
    "print('Problem status:', prob.status)\n",
    "print('Optimal value:', prob.value)"
   ]
  },
  {
   "cell_type": "code",
   "execution_count": null,
   "id": "fdc452ff",
   "metadata": {},
   "outputs": [],
   "source": [
    "import matplotlib.pyplot as plt\n",
    "plt.figure()\n",
    "maze.plot()\n",
    "for vertex in gcs.vertices:\n",
    "    if vertex.y.value is not None and vertex.y.value > 0.5:\n",
    "        x1, x2 = vertex.variables\n",
    "        values = np.array([x1.value, x2.value]).T\n",
    "        plt.plot(*values, c='b', linestyle='--')\n",
    "# plt.savefig('maze.pdf')"
   ]
  }
 ],
 "metadata": {
  "kernelspec": {
   "display_name": "Python 3 (ipykernel)",
   "language": "python",
   "name": "python3"
  },
  "language_info": {
   "codemirror_mode": {
    "name": "ipython",
    "version": 3
   },
   "file_extension": ".py",
   "mimetype": "text/x-python",
   "name": "python",
   "nbconvert_exporter": "python",
   "pygments_lexer": "ipython3",
   "version": "3.12.8"
  }
 },
 "nbformat": 4,
 "nbformat_minor": 5
}
