{
 "cells": [
  {
   "cell_type": "code",
   "execution_count": null,
   "id": "dfd76f13",
   "metadata": {},
   "outputs": [],
   "source": [
    "%matplotlib ipympl\n",
    "%load_ext autoreload\n",
    "%autoreload 2"
   ]
  },
  {
   "cell_type": "code",
   "execution_count": null,
   "id": "ffbeecf3",
   "metadata": {},
   "outputs": [],
   "source": [
    "import cvxpy as cp\n",
    "import numpy as np\n",
    "from gcspy import GraphOfConvexPrograms"
   ]
  },
  {
   "cell_type": "code",
   "execution_count": null,
   "id": "9d1746f9",
   "metadata": {},
   "outputs": [],
   "source": [
    "graph = GraphOfConvexPrograms()\n",
    "\n",
    "v1 = graph.add_vertex(\"v1\")\n",
    "x1 = v1.add_variable(2)\n",
    "c1 = np.array([-3, 0])\n",
    "v1.add_constraint(cp.norm_inf(x1 - c1) <= 1)\n",
    "\n",
    "v2 = graph.add_vertex(\"v2\")\n",
    "x2 = v2.add_variable(2)\n",
    "c2 = np.array([0, 2.5])\n",
    "D2 = np.diag([.25, 2])\n",
    "v2.add_constraint(cp.norm_inf(D2 @ (x2 - c2)) <= 1)\n",
    "\n",
    "v3 = graph.add_vertex(\"v3\")\n",
    "x3 = v3.add_variable(2)\n",
    "c3 = np.array([3, 0])\n",
    "v3.add_constraint(cp.norm2(x3 - c3) <= 1)\n",
    "\n",
    "v4 = graph.add_vertex(\"v4\")\n",
    "x4 = v4.add_variable(2)\n",
    "c4 = np.array([0, -2.5])\n",
    "D4 = np.diag([1, 2])\n",
    "v4.add_constraint(cp.norm2(D4 @ (x4 - c4)) <= 1)\n",
    "\n",
    "v5 = graph.add_vertex(\"v5\")\n",
    "x5 = v5.add_variable(2)\n",
    "c5 = np.array([.3, .3])\n",
    "v5.add_constraint(cp.norm1(x5 - c5) <= 1)"
   ]
  },
  {
   "cell_type": "code",
   "execution_count": null,
   "id": "7816b994",
   "metadata": {},
   "outputs": [],
   "source": [
    "for tail in graph.vertices:\n",
    "    for head in graph.vertices:\n",
    "        if tail != head:\n",
    "            edge = graph.add_edge(tail, head)\n",
    "            edge.add_cost(cp.norm(tail.variables[0] - head.variables[0], 2))"
   ]
  },
  {
   "cell_type": "code",
   "execution_count": null,
   "id": "c9bda818",
   "metadata": {},
   "outputs": [],
   "source": [
    "graph.graphviz()"
   ]
  },
  {
   "cell_type": "code",
   "execution_count": null,
   "id": "e0e37c42",
   "metadata": {},
   "outputs": [],
   "source": [
    "prob = graph.solve_traveling_salesman()\n",
    "print('Problem status:', prob.status)\n",
    "print('Optimal value:', prob.value)"
   ]
  },
  {
   "cell_type": "code",
   "execution_count": null,
   "id": "5d8f96ac",
   "metadata": {},
   "outputs": [],
   "source": [
    "import matplotlib.pyplot as plt\n",
    "plt.figure()\n",
    "plt.gca().set_aspect('equal')\n",
    "plt.axis('off')\n",
    "graph.plot_2d()\n",
    "graph.plot_2d_subgraph()"
   ]
  },
  {
   "cell_type": "markdown",
   "id": "b492283f",
   "metadata": {},
   "source": [
    "# From ILP"
   ]
  },
  {
   "cell_type": "code",
   "execution_count": null,
   "id": "161ab8ce",
   "metadata": {},
   "outputs": [],
   "source": [
    "from itertools import combinations\n",
    "\n",
    "ilp_constraints = []\n",
    "yv = graph.vertex_binaries()\n",
    "ye = graph.edge_binaries()\n",
    "\n",
    "for i, v in enumerate(graph.vertices):\n",
    "    inc_edges = graph.incoming_edge_indices(v)\n",
    "    out_edges = graph.outgoing_edge_indices(v)\n",
    "    ilp_constraints.append(yv[i] == 1)\n",
    "    ilp_constraints.append(sum(ye[out_edges]) == 1)\n",
    "    ilp_constraints.append(sum(ye[inc_edges]) == 1)\n",
    "\n",
    "subtour_constraints = []\n",
    "for r in range(2, graph.num_vertices() - 1):\n",
    "    for vertices in combinations(graph.vertices, r):\n",
    "        out_edges = graph.outgoing_edge_indices(vertices)\n",
    "        subtour_constraints.append(sum(ye[out_edges]) >= 1)"
   ]
  },
  {
   "cell_type": "code",
   "execution_count": null,
   "id": "e09cf8b4",
   "metadata": {},
   "outputs": [],
   "source": [
    "prob = graph.solve_from_ilp(ilp_constraints + subtour_constraints)\n",
    "print('Problem status:', prob.status)\n",
    "print('Optimal value:', prob.value)"
   ]
  },
  {
   "cell_type": "markdown",
   "id": "dbf89d57",
   "metadata": {},
   "source": [
    "# Solver callback"
   ]
  },
  {
   "cell_type": "code",
   "execution_count": null,
   "id": "c30b0cdd",
   "metadata": {},
   "outputs": [],
   "source": [
    "def expand_cycle(graph, vertex, ye_values):\n",
    "    cycle = [vertex]\n",
    "    while True:\n",
    "        out_edges = graph.outgoing_edge_indices(cycle[-1])\n",
    "        y_out = ye_values[out_edges]\n",
    "        k = out_edges[np.argmax(y_out)]\n",
    "        next_vertex = graph.edges[k].head\n",
    "        if next_vertex == cycle[0]:\n",
    "            break\n",
    "        cycle.append(next_vertex)\n",
    "    return cycle\n",
    "\n",
    "def shortest_subtour(graph, ye_values):\n",
    "    vertices_left = graph.vertices\n",
    "    subtour = graph.vertices\n",
    "    while len(vertices_left) > 0:\n",
    "        new_subtour = expand_cycle(graph, vertices_left[0], ye_values)\n",
    "        if len(new_subtour) < len(subtour):\n",
    "            subtour = new_subtour\n",
    "        vertices_left = [v for v in vertices_left if v not in new_subtour]\n",
    "    return subtour\n",
    "\n",
    "def subtour_elimination(yv, ye):\n",
    "    ye_value = np.array([y.value for y in ye])\n",
    "    subtour = shortest_subtour(graph, ye_value)\n",
    "    if len(subtour) == graph.num_vertices():\n",
    "        return []\n",
    "    else:\n",
    "        print(f\"Eliminated subtour with {len(subtour)} vertices.\")\n",
    "        out_edges = graph.outgoing_edge_indices(subtour)\n",
    "        return [sum(ye[out_edges]) >= 1]"
   ]
  },
  {
   "cell_type": "code",
   "execution_count": null,
   "id": "18adf7e5",
   "metadata": {},
   "outputs": [],
   "source": [
    "prob = graph.solve_from_ilp(ilp_constraints, callback=subtour_elimination)\n",
    "print('Problem status:', prob.status)\n",
    "print('Optimal value:', prob.value)"
   ]
  }
 ],
 "metadata": {
  "kernelspec": {
   "display_name": "Python 3",
   "language": "python",
   "name": "python3"
  },
  "language_info": {
   "codemirror_mode": {
    "name": "ipython",
    "version": 3
   },
   "file_extension": ".py",
   "mimetype": "text/x-python",
   "name": "python",
   "nbconvert_exporter": "python",
   "pygments_lexer": "ipython3",
   "version": "3.12.8"
  }
 },
 "nbformat": 4,
 "nbformat_minor": 5
}
