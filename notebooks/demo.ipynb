{
 "cells": [
  {
   "cell_type": "code",
   "execution_count": null,
   "id": "dfd76f13",
   "metadata": {},
   "outputs": [],
   "source": [
    "%matplotlib ipympl\n",
    "%load_ext autoreload\n",
    "%autoreload 2"
   ]
  },
  {
   "cell_type": "code",
   "execution_count": null,
   "id": "ffbeecf3",
   "metadata": {},
   "outputs": [],
   "source": [
    "import cvxpy as cp\n",
    "import numpy as np\n",
    "from gcspy import GraphOfConvexPrograms"
   ]
  },
  {
   "cell_type": "markdown",
   "id": "e119ba55",
   "metadata": {},
   "source": [
    "# Shortest path"
   ]
  },
  {
   "cell_type": "code",
   "execution_count": null,
   "id": "f63cc21f",
   "metadata": {},
   "outputs": [],
   "source": [
    "graph = GraphOfConvexPrograms()\n",
    "\n",
    "n = 3\n",
    "for i in range(n):\n",
    "    for j in range(n):\n",
    "        v = graph.add_vertex((i,j))\n",
    "        x = v.add_variable(2)\n",
    "        c = np.array([i, j])\n",
    "        v.add_constraint(cp.norm(x - c, 2) <= .3)"
   ]
  },
  {
   "cell_type": "code",
   "execution_count": null,
   "id": "cc5c7b46",
   "metadata": {},
   "outputs": [],
   "source": [
    "graph.edges = []\n",
    "edges = [\n",
    "    ((0, 0), (1, 0)),\n",
    "    ((1, 0), (2, 0)),\n",
    "    ((2, 0), (2, 1)),\n",
    "    ((0, 1), (0, 0)),\n",
    "    ((0, 1), (0, 2)),\n",
    "    ((1, 1), (1, 0)),\n",
    "    ((1, 1), (0, 1)),\n",
    "    ((1, 1), (1, 2)),\n",
    "    ((2, 1), (1, 1)),\n",
    "    ((2, 1), (2, 2)),\n",
    "    ((1, 2), (0, 2)),\n",
    "    ((1, 2), (2, 2)),\n",
    "        ]\n",
    "for tail_name, head_name in edges:\n",
    "    tail = graph.get_vertex(tail_name)\n",
    "    head = graph.get_vertex(head_name)\n",
    "    edge = graph.add_edge(tail, head)\n",
    "    edge.add_cost(cp.norm(head.variables[0] - tail.variables[0], 2))"
   ]
  },
  {
   "cell_type": "code",
   "execution_count": null,
   "id": "5512ea29",
   "metadata": {},
   "outputs": [],
   "source": [
    "source = graph.vertices[0]\n",
    "target = graph.vertices[2]\n",
    "prob = graph.solve_shortest_path(source, target)\n",
    "print('Problem status:', prob.status)\n",
    "print('Optimal value:', prob.value)"
   ]
  },
  {
   "cell_type": "code",
   "execution_count": null,
   "id": "0b6bf40a",
   "metadata": {},
   "outputs": [],
   "source": [
    "import matplotlib.pyplot as plt\n",
    "plt.figure(figsize=(4, 4))\n",
    "plt.gca().set_aspect('equal')\n",
    "plt.axis('off')\n",
    "graph.plot_2d()\n",
    "graph.plot_subgraph_2d()\n",
    "# plt.savefig('shortest_path.pdf')"
   ]
  },
  {
   "cell_type": "markdown",
   "id": "0c5ea13c",
   "metadata": {},
   "source": [
    "# Traveling salesman (DFJ)"
   ]
  },
  {
   "cell_type": "code",
   "execution_count": null,
   "id": "96e629f7",
   "metadata": {},
   "outputs": [],
   "source": [
    "gcs.edges = []\n",
    "for i in range(n):\n",
    "    for j in range(n):\n",
    "        for k in range(n):\n",
    "            for l in range(n):\n",
    "                dx = abs(i - k)\n",
    "                dy = abs(j - l)\n",
    "                if dx <= 1 and dy <= 1 and dx + dy != 0:\n",
    "                    tail = gcs.get_vertex_by_name(str((i, j)))\n",
    "                    head = gcs.get_vertex_by_name(str((k, l)))\n",
    "                    edge = gcs.add_edge(tail, head)\n",
    "                    edge.add_cost(cp.norm(head.variables[0] - tail.variables[0], 2))"
   ]
  },
  {
   "cell_type": "code",
   "execution_count": null,
   "id": "0d2f5ed6",
   "metadata": {},
   "outputs": [],
   "source": [
    "prob = gcs.solve_traveling_salesman()\n",
    "print('Problem status:', prob.status)\n",
    "print('Optimal value:', prob.value)"
   ]
  },
  {
   "cell_type": "code",
   "execution_count": null,
   "id": "b5e408dc",
   "metadata": {},
   "outputs": [],
   "source": [
    "import matplotlib.pyplot as plt\n",
    "plt.figure(figsize=(4, 4))\n",
    "plt.gca().set_aspect('equal')\n",
    "plt.axis('off')\n",
    "gcs.plot_2d()\n",
    "gcs.plot_subgraph_2d()\n",
    "# plt.savefig('traveling_salesman.pdf')"
   ]
  },
  {
   "cell_type": "markdown",
   "id": "3d34405f",
   "metadata": {},
   "source": [
    "# Traveling salesman (MTZ)"
   ]
  },
  {
   "cell_type": "code",
   "execution_count": null,
   "id": "00026e34",
   "metadata": {},
   "outputs": [],
   "source": [
    "gcs = GraphOfConvexSets()\n",
    "\n",
    "for i in range(n):\n",
    "    for j in range(n):\n",
    "        v = gcs.add_vertex(str((i,j)))\n",
    "        x = v.add_variable(2)\n",
    "        o = v.add_variable(1)\n",
    "        c = np.array([i, j])\n",
    "        v.add_constraint(cp.norm(x - c, 2) <= .3)\n",
    "        if i == j == 0:\n",
    "            v.add_constraint(o == 1)\n",
    "        else:\n",
    "            v.add_constraint(o >= 1)\n",
    "            v.add_constraint(o <= n ** 2)"
   ]
  },
  {
   "cell_type": "code",
   "execution_count": null,
   "id": "999e8fb3",
   "metadata": {},
   "outputs": [],
   "source": [
    "for i in range(n):\n",
    "    for j in range(n):\n",
    "        for k in range(n):\n",
    "            for l in range(n):\n",
    "                dx = abs(i - k)\n",
    "                dy = abs(j - l)\n",
    "                if dx <= 1 and dy <= 1 and dx + dy != 0:\n",
    "                    tail = gcs.get_vertex_by_name(str((i, j)))\n",
    "                    head = gcs.get_vertex_by_name(str((k, l)))\n",
    "                    edge = gcs.add_edge(tail, head)\n",
    "                    edge.add_cost(cp.norm(head.variables[0] - tail.variables[0], 2))\n",
    "                    if head.name != \"(0, 0)\":\n",
    "                        edge.add_constraint(head.variables[1] == tail.variables[1] + 1)"
   ]
  },
  {
   "cell_type": "code",
   "execution_count": null,
   "id": "787d0179",
   "metadata": {},
   "outputs": [],
   "source": [
    "prob = gcs.solve_traveling_salesman(subtour_elimination=False)\n",
    "print('Problem status:', prob.status)\n",
    "print('Optimal value:', prob.value)"
   ]
  },
  {
   "cell_type": "markdown",
   "id": "d8846bb7",
   "metadata": {},
   "source": [
    "# Facility location"
   ]
  },
  {
   "cell_type": "code",
   "execution_count": null,
   "id": "9484d573",
   "metadata": {},
   "outputs": [],
   "source": [
    "gcs = GraphOfConvexSets()\n",
    "\n",
    "facilities = [1, 3, 5, 7]\n",
    "for i in range(n):\n",
    "    for j in range(n):\n",
    "        norm = np.inf if gcs.num_vertices() in facilities else 2\n",
    "        v = gcs.add_vertex(str((i,j)))\n",
    "        x = v.add_variable(2)\n",
    "        c = np.array([i, j])\n",
    "        v.add_constraint(cp.norm(x - c, norm) <= .25)"
   ]
  },
  {
   "cell_type": "code",
   "execution_count": null,
   "id": "ea1963c2",
   "metadata": {},
   "outputs": [],
   "source": [
    "gcs.edges = []\n",
    "customers = [i for i in range(gcs.num_vertices()) if i not in facilities]\n",
    "for facility in facilities:\n",
    "    for customer in customers:\n",
    "        tail = gcs.vertices[facility]\n",
    "        head = gcs.vertices[customer]\n",
    "        edge = gcs.add_edge(tail, head)\n",
    "        edge.add_cost(cp.norm(tail.variables[0] - head.variables[0], 2))"
   ]
  },
  {
   "cell_type": "code",
   "execution_count": null,
   "id": "d1b569c5",
   "metadata": {},
   "outputs": [],
   "source": [
    "prob = gcs.solve_facility_location(facilities)\n",
    "print('Problem status:', prob.status)\n",
    "print('Optimal value:', prob.value)"
   ]
  },
  {
   "cell_type": "code",
   "execution_count": null,
   "id": "7ec608fd",
   "metadata": {},
   "outputs": [],
   "source": [
    "import matplotlib.pyplot as plt\n",
    "plt.figure(figsize=(4, 4))\n",
    "plt.gca().set_aspect('equal')\n",
    "plt.axis('off')\n",
    "gcs.plot_2d()\n",
    "gcs.plot_subgraph_2d()\n",
    "# plt.savefig('facility_location.pdf')"
   ]
  },
  {
   "cell_type": "code",
   "execution_count": null,
   "id": "ef441b58",
   "metadata": {},
   "outputs": [],
   "source": []
  }
 ],
 "metadata": {
  "kernelspec": {
   "display_name": "Python 3",
   "language": "python",
   "name": "python3"
  },
  "language_info": {
   "codemirror_mode": {
    "name": "ipython",
    "version": 3
   },
   "file_extension": ".py",
   "mimetype": "text/x-python",
   "name": "python",
   "nbconvert_exporter": "python",
   "pygments_lexer": "ipython3",
   "version": "3.12.8"
  }
 },
 "nbformat": 4,
 "nbformat_minor": 5
}
