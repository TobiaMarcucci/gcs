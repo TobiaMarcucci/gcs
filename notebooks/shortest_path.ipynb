{
 "cells": [
  {
   "cell_type": "code",
   "execution_count": null,
   "id": "dfd76f13",
   "metadata": {},
   "outputs": [],
   "source": [
    "%matplotlib ipympl\n",
    "%load_ext autoreload\n",
    "%autoreload 2"
   ]
  },
  {
   "cell_type": "code",
   "execution_count": null,
   "id": "ffbeecf3",
   "metadata": {},
   "outputs": [],
   "source": [
    "import cvxpy as cp\n",
    "import numpy as np\n",
    "from gcspy import GraphOfConvexPrograms"
   ]
  },
  {
   "cell_type": "code",
   "execution_count": null,
   "id": "9d1746f9",
   "metadata": {},
   "outputs": [],
   "source": [
    "gcs = GraphOfConvexPrograms()\n",
    "\n",
    "s = gcs.add_vertex(\"s\")\n",
    "xs = s.add_variable(2)\n",
    "cs = np.array([1, 0])\n",
    "Ds = np.diag([2, 1])\n",
    "s.add_constraint(cp.norm2(Ds @ (xs - cs)) <= 2)\n",
    "\n",
    "v1 = gcs.add_vertex(\"v1\")\n",
    "x1 = v1.add_variable(2)\n",
    "c1 = np.array([4, 2])\n",
    "v1.add_constraint(cp.norm(x1 - c1, np.inf) <= 1)\n",
    "\n",
    "v2 = gcs.add_vertex(\"v2\")\n",
    "x2 = v2.add_variable(2)\n",
    "c2 = np.array([5.5, -2])\n",
    "v2.add_constraint(cp.norm1(x2 - c2) <= 1.2)\n",
    "v2.add_constraint(cp.norm2(x2 - c2) <= 1)\n",
    "\n",
    "v3 = gcs.add_vertex(\"v3\")\n",
    "x3 = v3.add_variable(2)\n",
    "c3 = np.array([7, 2])\n",
    "v3.add_constraint(cp.norm2(x3 - c3) <= 1)\n",
    "\n",
    "t = gcs.add_vertex(\"t\")\n",
    "xt = t.add_variable(2)\n",
    "ct = np.array([10, 0])\n",
    "Dt = np.diag([1, 2])\n",
    "t.add_constraint(cp.norm2(Dt @ (xt - ct)) <= 2)\n",
    "t.add_constraint(xt[0] <= ct[0])"
   ]
  },
  {
   "cell_type": "code",
   "execution_count": null,
   "id": "0fa09136",
   "metadata": {},
   "outputs": [],
   "source": [
    "sv1 = gcs.add_edge(s, v1)\n",
    "sv1.add_cost(cp.norm2(xs - x1))\n",
    "sv1.add_constraint(x1[1] >= xs[1])\n",
    "\n",
    "sv2 = gcs.add_edge(s, v2)\n",
    "sv2.add_cost(cp.norm2(xs - x2))\n",
    "sv2.add_constraint(x2[1] >= xs[1])\n",
    "\n",
    "v1v2 = gcs.add_edge(v1, v2)\n",
    "v1v2.add_cost(cp.norm2(x1 - x2))\n",
    "v1v2.add_constraint(x2[1] >= x1[1])\n",
    "\n",
    "v1v3 = gcs.add_edge(v1, v3)\n",
    "v1v3.add_cost(cp.norm2(x1 - x3))\n",
    "v1v3.add_constraint(x3[1] >= x1[1])\n",
    "\n",
    "v2t = gcs.add_edge(v2, t)\n",
    "v2t.add_cost(cp.norm2(x2 - xt))\n",
    "v2t.add_constraint(xt[1] >= x2[1])\n",
    "\n",
    "v2v3 = gcs.add_edge(v2, v3)\n",
    "v2v3.add_cost(cp.norm2(x2 - x3))\n",
    "v2v3.add_constraint(x3[1] >= x2[1])\n",
    "\n",
    "v3t = gcs.add_edge(v3, t)\n",
    "v3t.add_cost(cp.norm2(x3 - xt))\n",
    "v3t.add_constraint(xt[1] >= x3[1])"
   ]
  },
  {
   "cell_type": "code",
   "execution_count": null,
   "id": "32d48e4e",
   "metadata": {},
   "outputs": [],
   "source": [
    "gcs.graphviz()"
   ]
  },
  {
   "cell_type": "code",
   "execution_count": null,
   "id": "46d02adf",
   "metadata": {},
   "outputs": [],
   "source": [
    "prob = gcs.solve_shortest_path(s, t)\n",
    "print('Problem status:', prob.status)\n",
    "print('Optimal value:', prob.value)"
   ]
  },
  {
   "cell_type": "code",
   "execution_count": null,
   "id": "fdc452ff",
   "metadata": {
    "scrolled": false
   },
   "outputs": [],
   "source": [
    "import matplotlib.pyplot as plt\n",
    "plt.figure()\n",
    "plt.gca().set_aspect('equal')\n",
    "plt.axis('off')\n",
    "gcs.plot_2d()\n",
    "gcs.plot_2d_subgraph()\n",
    "# plt.savefig('shortest_path.pdf')"
   ]
  },
  {
   "cell_type": "code",
   "execution_count": null,
   "id": "d06a336e",
   "metadata": {},
   "outputs": [],
   "source": []
  }
 ],
 "metadata": {
  "kernelspec": {
   "display_name": "Python 3",
   "language": "python",
   "name": "python3"
  },
  "language_info": {
   "codemirror_mode": {
    "name": "ipython",
    "version": 3
   },
   "file_extension": ".py",
   "mimetype": "text/x-python",
   "name": "python",
   "nbconvert_exporter": "python",
   "pygments_lexer": "ipython3",
   "version": "3.12.8"
  }
 },
 "nbformat": 4,
 "nbformat_minor": 5
}
