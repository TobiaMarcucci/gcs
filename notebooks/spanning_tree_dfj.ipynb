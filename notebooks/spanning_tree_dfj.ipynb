{
 "cells": [
  {
   "cell_type": "code",
   "execution_count": null,
   "id": "dfd76f13",
   "metadata": {},
   "outputs": [],
   "source": [
    "%matplotlib ipympl\n",
    "%load_ext autoreload\n",
    "%autoreload 2"
   ]
  },
  {
   "cell_type": "code",
   "execution_count": null,
   "id": "ffbeecf3",
   "metadata": {},
   "outputs": [],
   "source": [
    "import cvxpy as cp\n",
    "import numpy as np\n",
    "from gcspy import GraphOfConvexPrograms"
   ]
  },
  {
   "cell_type": "code",
   "execution_count": null,
   "id": "9d1746f9",
   "metadata": {},
   "outputs": [],
   "source": [
    "graph = GraphOfConvexPrograms()\n",
    "\n",
    "n = 3\n",
    "for i in range(n):\n",
    "    for j in range(n):\n",
    "        v = graph.add_vertex((i,j))\n",
    "        x = v.add_variable(2)\n",
    "        c = np.array([i, j])\n",
    "        v.add_constraint(cp.norm2(x - c) <= .25)"
   ]
  },
  {
   "cell_type": "code",
   "execution_count": null,
   "id": "556a4ed5",
   "metadata": {},
   "outputs": [],
   "source": [
    "graph.edges = []\n",
    "for i in range(n):\n",
    "    for j in range(n):\n",
    "        for k in range(n):\n",
    "            for l in range(n):\n",
    "                dx = abs(i - k)\n",
    "                dy = abs(j - l)\n",
    "                if dx <= 1 and dy <= 1 and dx + dy != 0:\n",
    "                    tail = graph.get_vertex((i, j))\n",
    "                    head = graph.get_vertex((k, l))\n",
    "                    edge = graph.add_edge(tail, head)\n",
    "                    edge.add_cost(cp.norm2(head.variables[0] - tail.variables[0]))"
   ]
  },
  {
   "cell_type": "code",
   "execution_count": null,
   "id": "297d5495",
   "metadata": {},
   "outputs": [],
   "source": [
    "root = graph.vertices[0]\n",
    "prob = graph.solve_spanning_tree(root)\n",
    "print('Problem status:', prob.status)\n",
    "print('Optimal value:', prob.value)"
   ]
  },
  {
   "cell_type": "code",
   "execution_count": null,
   "id": "5d8f96ac",
   "metadata": {},
   "outputs": [],
   "source": [
    "import matplotlib.pyplot as plt\n",
    "plt.figure()\n",
    "plt.axis(\"equal\")\n",
    "plt.axis('off')\n",
    "graph.plot_2d()\n",
    "graph.plot_2d_subgraph()"
   ]
  },
  {
   "cell_type": "markdown",
   "id": "0fb5952c",
   "metadata": {},
   "source": [
    "# From ILP"
   ]
  },
  {
   "cell_type": "code",
   "execution_count": null,
   "id": "97dc93ca",
   "metadata": {},
   "outputs": [],
   "source": [
    "from itertools import combinations\n",
    "\n",
    "ilp_constraints = []\n",
    "yv = graph.vertex_binaries()\n",
    "ye = graph.edge_binaries()\n",
    "\n",
    "for i, vertex in enumerate(graph.vertices):\n",
    "    ilp_constraints.append(yv[i] == 1)\n",
    "    inc_edges = graph.incoming_indices(vertex)\n",
    "    if i == 0:\n",
    "        ilp_constraints.append(sum(ye[inc_edges]) == 0)\n",
    "    else:\n",
    "        ilp_constraints.append(sum(ye[inc_edges]) == 1)\n",
    "        \n",
    "for r in range(2, graph.num_vertices()):\n",
    "    for vertices in combinations(graph.vertices[1:], r):\n",
    "        inc_edges = graph.incoming_indices(vertices)\n",
    "        ilp_constraints.append(sum(ye[inc_edges]) >= 1)"
   ]
  },
  {
   "cell_type": "code",
   "execution_count": null,
   "id": "29994020",
   "metadata": {},
   "outputs": [],
   "source": [
    "prob = gcs.solve_from_ilp(ilp_constraints)\n",
    "print('Problem status:', prob.status)\n",
    "print('Optimal value:', prob.value)"
   ]
  },
  {
   "cell_type": "code",
   "execution_count": null,
   "id": "98106930",
   "metadata": {},
   "outputs": [],
   "source": []
  }
 ],
 "metadata": {
  "kernelspec": {
   "display_name": "Python 3",
   "language": "python",
   "name": "python3"
  },
  "language_info": {
   "codemirror_mode": {
    "name": "ipython",
    "version": 3
   },
   "file_extension": ".py",
   "mimetype": "text/x-python",
   "name": "python",
   "nbconvert_exporter": "python",
   "pygments_lexer": "ipython3",
   "version": "3.12.8"
  }
 },
 "nbformat": 4,
 "nbformat_minor": 5
}
