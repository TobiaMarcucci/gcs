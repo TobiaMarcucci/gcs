{
 "cells": [
  {
   "cell_type": "code",
   "execution_count": null,
   "id": "ffbeecf3",
   "metadata": {},
   "outputs": [],
   "source": [
    "import cvxpy as cp\n",
    "import numpy as np\n",
    "import matplotlib.pyplot as plt\n",
    "from gcspy import GraphOfConvexPrograms"
   ]
  },
  {
   "cell_type": "code",
   "execution_count": null,
   "id": "9d1746f9",
   "metadata": {},
   "outputs": [],
   "source": [
    "# initialize empty graph\n",
    "graph = GraphOfConvexPrograms()\n",
    "\n",
    "# vertex 1\n",
    "v1 = graph.add_vertex(\"v1\")\n",
    "x1 = v1.add_variable(2)\n",
    "c1 = np.array([-3, 0]) # center of the set\n",
    "v1.add_constraint(cp.norm_inf(x1 - c1) <= 1)\n",
    "\n",
    "# vertex 2\n",
    "v2 = graph.add_vertex(\"v2\")\n",
    "x2 = v2.add_variable(2)\n",
    "c2 = np.array([0, 2.5]) # center of the set\n",
    "D2 = np.diag([.25, 2]) # scaling matrix\n",
    "v2.add_constraint(cp.norm_inf(D2 @ (x2 - c2)) <= 1)\n",
    "\n",
    "# vertex 3\n",
    "v3 = graph.add_vertex(\"v3\")\n",
    "x3 = v3.add_variable(2)\n",
    "c3 = np.array([3, 0]) # center of the set\n",
    "v3.add_constraint(cp.norm2(x3 - c3) <= 1)\n",
    "v3.add_constraint(x3 >= c3) # keep only top right part of the set\n",
    "\n",
    "# vertex 4\n",
    "v4 = graph.add_vertex(\"v4\")\n",
    "x4 = v4.add_variable(2)\n",
    "c4 = np.array([0, -2.5]) # center of the set\n",
    "D4 = np.diag([1, 2]) # scaling matrix\n",
    "v4.add_constraint(cp.norm2(D4 @ (x4 - c4)) <= 1)\n",
    "\n",
    "# vertex 5\n",
    "v5 = graph.add_vertex(\"v5\")\n",
    "x5 = v5.add_variable(2)\n",
    "c5 = np.array([.3, .3]) # center of the set\n",
    "v5.add_constraint(cp.norm1(x5 - c5) <= 1)"
   ]
  },
  {
   "cell_type": "code",
   "execution_count": null,
   "id": "7816b994",
   "metadata": {},
   "outputs": [],
   "source": [
    "# add an edges vetween every pair of distinct vertices\n",
    "for tail in graph.vertices:\n",
    "    for head in graph.vertices:\n",
    "        if tail != head:\n",
    "            edge = graph.add_edge(tail, head)\n",
    "\n",
    "            # edge cost is Euclidean distance\n",
    "            edge.add_cost(cp.norm2(tail.variables[0] - head.variables[0]))"
   ]
  },
  {
   "cell_type": "code",
   "execution_count": null,
   "id": "c9bda818",
   "metadata": {},
   "outputs": [],
   "source": [
    "# show graph using graphviz (requires graphviz)\n",
    "graph.graphviz()"
   ]
  },
  {
   "cell_type": "code",
   "execution_count": null,
   "id": "e0e37c42",
   "metadata": {},
   "outputs": [],
   "source": [
    "# solve traveling salesman problem using Dantzig–Fulkerson–Johnson formulation\n",
    "# all the subtour elimination constraints are included\n",
    "prob = graph.solve_traveling_salesman(subtour_elimination=True)\n",
    "print('Problem status:', prob.status)\n",
    "print('Optimal value:', prob.value)"
   ]
  },
  {
   "cell_type": "code",
   "execution_count": null,
   "id": "5d8f96ac",
   "metadata": {},
   "outputs": [],
   "source": [
    "# plot optimal solution (requires matplotlib)\n",
    "plt.figure()\n",
    "plt.gca().set_aspect('equal')\n",
    "plt.axis('off')\n",
    "graph.plot_2d()\n",
    "graph.plot_2d_solution()"
   ]
  }
 ],
 "metadata": {
  "kernelspec": {
   "display_name": "Python 3",
   "language": "python",
   "name": "python3"
  },
  "language_info": {
   "codemirror_mode": {
    "name": "ipython",
    "version": 3
   },
   "file_extension": ".py",
   "mimetype": "text/x-python",
   "name": "python",
   "nbconvert_exporter": "python",
   "pygments_lexer": "ipython3",
   "version": "3.12.8"
  }
 },
 "nbformat": 4,
 "nbformat_minor": 5
}
