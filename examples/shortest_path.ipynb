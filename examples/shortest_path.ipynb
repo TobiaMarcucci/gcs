{
 "cells": [
  {
   "cell_type": "code",
   "execution_count": null,
   "id": "ffbeecf3",
   "metadata": {},
   "outputs": [],
   "source": [
    "import cvxpy as cp\n",
    "import numpy as np\n",
    "import matplotlib.pyplot as plt\n",
    "from gcspy import GraphOfConvexPrograms"
   ]
  },
  {
   "cell_type": "code",
   "execution_count": null,
   "id": "9d1746f9",
   "metadata": {},
   "outputs": [],
   "source": [
    "# initialize empty graph\n",
    "graph = GraphOfConvexPrograms()\n",
    "\n",
    "# source vertex\n",
    "s = graph.add_vertex(\"s\")\n",
    "xs = s.add_variable(2)\n",
    "cs = np.array([1, 0]) # center\n",
    "Ds = np.diag([1, 1/2]) # ellipse matrix\n",
    "s.add_constraint(cp.norm2(Ds @ (xs - cs)) <= 1)\n",
    "\n",
    "# target vertex\n",
    "t = graph.add_vertex(\"t\")\n",
    "xt = t.add_variable(2)\n",
    "ct = np.array([10, 0]) # center\n",
    "Dt = np.diag([1/2, 1]) # ellipse matrix\n",
    "t.add_constraint(cp.norm2(Dt @ (xt - ct)) <= 1)\n",
    "t.add_constraint(xt[0] <= ct[0]) # cut right half of the ellipse\n",
    "\n",
    "# vertex 1\n",
    "v1 = graph.add_vertex(\"v1\")\n",
    "x1 = v1.add_variable(2)\n",
    "c1 = np.array([4, 2]) # center\n",
    "v1.add_constraint(cp.norm_inf(x1 - c1) <= 1)\n",
    "\n",
    "# vertex 2\n",
    "v2 = graph.add_vertex(\"v2\")\n",
    "x2 = v2.add_variable(2)\n",
    "c2 = np.array([5.5, -2]) # center\n",
    "v2.add_constraint(cp.norm1(x2 - c2) <= 1.2)\n",
    "v2.add_constraint(cp.norm2(x2 - c2) <= 1)\n",
    "\n",
    "# vertex 3\n",
    "v3 = graph.add_vertex(\"v3\")\n",
    "x3 = v3.add_variable(2)\n",
    "c3 = np.array([7, 2]) # center\n",
    "v3.add_constraint(cp.norm2(x3 - c3) <= 1)"
   ]
  },
  {
   "cell_type": "code",
   "execution_count": null,
   "id": "0fa09136",
   "metadata": {},
   "outputs": [],
   "source": [
    "# add a bunch of edges\n",
    "graph.add_edge(s, v1)\n",
    "graph.add_edge(s, v2)\n",
    "graph.add_edge(v1, v2)\n",
    "graph.add_edge(v1, v3)\n",
    "graph.add_edge(v2, v3)\n",
    "graph.add_edge(v2, t)\n",
    "graph.add_edge(v3, t)\n",
    "\n",
    "# add the same cost to all the edges\n",
    "for edge in graph.edges:\n",
    "    x_tail = edge.tail.variables[0]\n",
    "    x_head = edge.head.variables[0]\n",
    "    edge.add_cost(cp.norm2(x_head - x_tail))\n",
    "\n",
    "    # add constraint that y variables can only increase along the path\n",
    "    edge.add_constraint(x_head[1] >= x_tail[1])"
   ]
  },
  {
   "cell_type": "code",
   "execution_count": null,
   "id": "32d48e4e",
   "metadata": {},
   "outputs": [],
   "source": [
    "# show graph using graphviz (requires graphviz to be installed)\n",
    "graph.graphviz()"
   ]
  },
  {
   "cell_type": "code",
   "execution_count": null,
   "id": "46d02adf",
   "metadata": {},
   "outputs": [],
   "source": [
    "# solve shortest path problem\n",
    "prob = graph.solve_shortest_path(s, t)\n",
    "print('Problem status:', prob.status)\n",
    "print('Optimal value:', prob.value)"
   ]
  },
  {
   "cell_type": "code",
   "execution_count": null,
   "id": "fdc452ff",
   "metadata": {
    "scrolled": false
   },
   "outputs": [],
   "source": [
    "# plot optimal solution (requires matplotlib to be installed)\n",
    "plt.figure()\n",
    "plt.axis(\"equal\")\n",
    "graph.plot_2d()\n",
    "graph.plot_2d_solution()"
   ]
  }
 ],
 "metadata": {
  "kernelspec": {
   "display_name": "Python 3",
   "language": "python",
   "name": "python3"
  },
  "language_info": {
   "codemirror_mode": {
    "name": "ipython",
    "version": 3
   },
   "file_extension": ".py",
   "mimetype": "text/x-python",
   "name": "python",
   "nbconvert_exporter": "python",
   "pygments_lexer": "ipython3",
   "version": "3.12.8"
  }
 },
 "nbformat": 4,
 "nbformat_minor": 5
}
