{
 "cells": [
  {
   "cell_type": "code",
   "execution_count": null,
   "id": "ffbeecf3",
   "metadata": {},
   "outputs": [],
   "source": [
    "import cvxpy as cp\n",
    "import numpy as np\n",
    "from itertools import combinations\n",
    "from gcspy import GraphOfConvexPrograms"
   ]
  },
  {
   "cell_type": "code",
   "execution_count": 2,
   "id": "9d1746f9",
   "metadata": {},
   "outputs": [],
   "source": [
    "# initialize empty graph\n",
    "graph = GraphOfConvexPrograms()\n",
    "\n",
    "# vertex 1\n",
    "v1 = graph.add_vertex(\"v1\")\n",
    "x1 = v1.add_variable(2)\n",
    "c1 = np.array([-3, 0]) # center of the set\n",
    "v1.add_constraint(cp.norm_inf(x1 - c1) <= 1)\n",
    "\n",
    "# vertex 2\n",
    "v2 = graph.add_vertex(\"v2\")\n",
    "x2 = v2.add_variable(2)\n",
    "c2 = np.array([0, 2.5]) # center of the set\n",
    "D2 = np.diag([.25, 2]) # scaling matrix\n",
    "v2.add_constraint(cp.norm_inf(D2 @ (x2 - c2)) <= 1)\n",
    "\n",
    "# vertex 3\n",
    "v3 = graph.add_vertex(\"v3\")\n",
    "x3 = v3.add_variable(2)\n",
    "c3 = np.array([3, 0]) # center of the set\n",
    "v3.add_constraint(cp.norm2(x3 - c3) <= 1)\n",
    "v3.add_constraint(x3 >= c3) # keep only top right part of the set\n",
    "\n",
    "# vertex 4\n",
    "v4 = graph.add_vertex(\"v4\")\n",
    "x4 = v4.add_variable(2)\n",
    "c4 = np.array([0, -2.5]) # center of the set\n",
    "D4 = np.diag([1, 2]) # scaling matrix\n",
    "v4.add_constraint(cp.norm2(D4 @ (x4 - c4)) <= 1)\n",
    "\n",
    "# vertex 5\n",
    "v5 = graph.add_vertex(\"v5\")\n",
    "x5 = v5.add_variable(2)\n",
    "c5 = np.array([.3, .3]) # center of the set\n",
    "v5.add_constraint(cp.norm1(x5 - c5) <= 1)"
   ]
  },
  {
   "cell_type": "code",
   "execution_count": 3,
   "id": "7816b994",
   "metadata": {},
   "outputs": [],
   "source": [
    "# add an edges vetween every pair of distinct vertices\n",
    "for tail in graph.vertices:\n",
    "    for head in graph.vertices:\n",
    "        if tail != head:\n",
    "            edge = graph.add_edge(tail, head)\n",
    "\n",
    "            # edge cost is Euclidean distance\n",
    "            edge.add_cost(cp.norm2(tail.variables[0] - head.variables[0]))"
   ]
  },
  {
   "cell_type": "code",
   "execution_count": 4,
   "id": "e0e37c42",
   "metadata": {},
   "outputs": [
    {
     "name": "stdout",
     "output_type": "stream",
     "text": [
      "Problem status: optimal\n",
      "Optimal value: 12.807842389466414\n"
     ]
    }
   ],
   "source": [
    "# solve traveling salesman problem using Dantzig–Fulkerson–Johnson formulation\n",
    "prob = graph.solve_traveling_salesman()\n",
    "print('Problem status:', prob.status)\n",
    "print('Optimal value:', prob.value)"
   ]
  },
  {
   "cell_type": "code",
   "execution_count": 5,
   "id": "161ab8ce",
   "metadata": {},
   "outputs": [],
   "source": [
    "# if the method solve_traveling_salesman was not implemented, we could still\n",
    "# solve the TSP by passing the constraints of its integer linear program (ILP)\n",
    "# formulation (in this case we write again the DFJ formulation)\n",
    "\n",
    "# the lower bound of 0 and upper bound of 1 on the binary variables are\n",
    "# automatically enforced and do not have to be included in the formulation\n",
    "\n",
    "# binary variables\n",
    "yv = graph.vertex_binaries()\n",
    "ye = graph.edge_binaries()\n",
    "\n",
    "# vertex constraints\n",
    "ilp_constraints = []\n",
    "for i, vertex in enumerate(graph.vertices):\n",
    "    inc = graph.incoming_edge_indices(vertex)\n",
    "    out = graph.outgoing_edge_indices(vertex)\n",
    "    ilp_constraints += [yv[i] == 1, sum(ye[out]) == 1, sum(ye[inc]) == 1]\n",
    "\n",
    "# subtour elimnation constraints\n",
    "for subtour_size in range(2, graph.num_vertices() - 1):\n",
    "    for vertices in combinations(graph.vertices, subtour_size):\n",
    "        out = graph.outgoing_edge_indices(vertices)\n",
    "        ilp_constraints.append(sum(ye[out]) >= 1)"
   ]
  },
  {
   "cell_type": "code",
   "execution_count": 6,
   "id": "e09cf8b4",
   "metadata": {},
   "outputs": [
    {
     "name": "stdout",
     "output_type": "stream",
     "text": [
      "Problem status: optimal\n",
      "Optimal value: 12.807842389466414\n"
     ]
    }
   ],
   "source": [
    "# solve traveling salesman problem from constraints of the ilp formulation and\n",
    "# check that optimal value is equal to the one above\n",
    "prob = graph.solve_from_ilp(ilp_constraints)\n",
    "print('Problem status:', prob.status)\n",
    "print('Optimal value:', prob.value)"
   ]
  }
 ],
 "metadata": {
  "kernelspec": {
   "display_name": "Python 3",
   "language": "python",
   "name": "python3"
  },
  "language_info": {
   "codemirror_mode": {
    "name": "ipython",
    "version": 3
   },
   "file_extension": ".py",
   "mimetype": "text/x-python",
   "name": "python",
   "nbconvert_exporter": "python",
   "pygments_lexer": "ipython3",
   "version": "3.12.8"
  }
 },
 "nbformat": 4,
 "nbformat_minor": 5
}
