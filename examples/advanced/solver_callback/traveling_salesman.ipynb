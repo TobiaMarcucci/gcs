{
 "cells": [
  {
   "cell_type": "code",
   "execution_count": null,
   "id": "ffbeecf3",
   "metadata": {},
   "outputs": [],
   "source": [
    "import cvxpy as cp\n",
    "import numpy as np\n",
    "from gcspy import GraphOfConvexPrograms"
   ]
  },
  {
   "cell_type": "code",
   "execution_count": null,
   "id": "9d1746f9",
   "metadata": {},
   "outputs": [],
   "source": [
    "# initialize empty graph\n",
    "graph = GraphOfConvexPrograms()\n",
    "\n",
    "# vertex 1\n",
    "v1 = graph.add_vertex(\"v1\")\n",
    "x1 = v1.add_variable(2)\n",
    "c1 = np.array([-3, 0]) # center of the set\n",
    "v1.add_constraint(cp.norm_inf(x1 - c1) <= 1)\n",
    "\n",
    "# vertex 2\n",
    "v2 = graph.add_vertex(\"v2\")\n",
    "x2 = v2.add_variable(2)\n",
    "c2 = np.array([0, 2.5]) # center of the set\n",
    "D2 = np.diag([.25, 2]) # scaling matrix\n",
    "v2.add_constraint(cp.norm_inf(D2 @ (x2 - c2)) <= 1)\n",
    "\n",
    "# vertex 3\n",
    "v3 = graph.add_vertex(\"v3\")\n",
    "x3 = v3.add_variable(2)\n",
    "c3 = np.array([3, 0]) # center of the set\n",
    "v3.add_constraint(cp.norm2(x3 - c3) <= 1)\n",
    "v3.add_constraint(x3 >= c3) # keep only top right part of the set\n",
    "\n",
    "# vertex 4\n",
    "v4 = graph.add_vertex(\"v4\")\n",
    "x4 = v4.add_variable(2)\n",
    "c4 = np.array([0, -2.5]) # center of the set\n",
    "D4 = np.diag([1, 2]) # scaling matrix\n",
    "v4.add_constraint(cp.norm2(D4 @ (x4 - c4)) <= 1)\n",
    "\n",
    "# vertex 5\n",
    "v5 = graph.add_vertex(\"v5\")\n",
    "x5 = v5.add_variable(2)\n",
    "c5 = np.array([.3, .3]) # center of the set\n",
    "v5.add_constraint(cp.norm1(x5 - c5) <= 1)"
   ]
  },
  {
   "cell_type": "code",
   "execution_count": null,
   "id": "7816b994",
   "metadata": {},
   "outputs": [],
   "source": [
    "# add an edges vetween every pair of distinct vertices\n",
    "for tail in graph.vertices:\n",
    "    for head in graph.vertices:\n",
    "        if tail != head:\n",
    "            edge = graph.add_edge(tail, head)\n",
    "\n",
    "            # edge cost is Euclidean distance\n",
    "            edge.add_cost(cp.norm2(tail.variables[0] - head.variables[0]))"
   ]
  },
  {
   "cell_type": "code",
   "execution_count": null,
   "id": "e0e37c42",
   "metadata": {},
   "outputs": [],
   "source": [
    "# solve traveling salesman problem using Dantzig–Fulkerson–Johnson formulation\n",
    "# all the subtour elimination constraints are included\n",
    "prob = graph.solve_traveling_salesman(subtour_elimination=True)\n",
    "print('Problem status:', prob.status)\n",
    "print('Optimal value:', prob.value)"
   ]
  },
  {
   "cell_type": "code",
   "execution_count": null,
   "id": "c30b0cdd",
   "metadata": {},
   "outputs": [],
   "source": [
    "# instead of including all the subtour elimination constraints in the initial\n",
    "# formulation, we can add them as needed\n",
    "\n",
    "# function that computes a cycle with nonzero flow starting from a given vertex\n",
    "def expand_cycle(graph, vertex, ye):\n",
    "    cycle = [vertex]\n",
    "    while True:\n",
    "        out = graph.outgoing_edge_indices(cycle[-1])\n",
    "        next_edge_idx = out[np.argmax(ye[out])]\n",
    "        next_edge = graph.edges[next_edge_idx]\n",
    "        next_vertex = next_edge.head\n",
    "        if next_vertex == cycle[0]:\n",
    "            break\n",
    "        cycle.append(next_vertex)\n",
    "    return cycle\n",
    "\n",
    "# function that computes a subtour of minimum length\n",
    "def shortest_subtour(graph, ye):\n",
    "    vertices_left = graph.vertices\n",
    "    subtour = graph.vertices\n",
    "    while len(vertices_left) > 0:\n",
    "        new_subtour = expand_cycle(graph, vertices_left[0], ye)\n",
    "        if len(new_subtour) < len(subtour):\n",
    "            subtour = new_subtour\n",
    "        vertices_left = [vertex for vertex in vertices_left if vertex not in new_subtour]\n",
    "    return subtour\n",
    "\n",
    "# function that computes a linear constraint that eliminates a subtour\n",
    "# inputs are yv and ye as required for a callback function\n",
    "def subtour_elimination(yv, ye):\n",
    "    ye_value = np.array([y.value for y in ye])\n",
    "    subtour = shortest_subtour(graph, ye_value)\n",
    "    if len(subtour) == graph.num_vertices():\n",
    "        return []\n",
    "    else:\n",
    "        print(f\"Eliminated subtour with {len(subtour)} vertices.\")\n",
    "        out = graph.outgoing_edge_indices(subtour)\n",
    "        return [sum(ye[out]) >= 1]"
   ]
  },
  {
   "cell_type": "code",
   "execution_count": null,
   "id": "18adf7e5",
   "metadata": {},
   "outputs": [],
   "source": [
    "# solve traveling salesman using callback\n",
    "prob = graph.solve_traveling_salesman(subtour_elimination=False, callback=subtour_elimination)\n",
    "print('Problem status:', prob.status)\n",
    "print('Optimal value:', prob.value)"
   ]
  }
 ],
 "metadata": {
  "kernelspec": {
   "display_name": "Python 3",
   "language": "python",
   "name": "python3"
  },
  "language_info": {
   "codemirror_mode": {
    "name": "ipython",
    "version": 3
   },
   "file_extension": ".py",
   "mimetype": "text/x-python",
   "name": "python",
   "nbconvert_exporter": "python",
   "pygments_lexer": "ipython3",
   "version": "3.12.8"
  }
 },
 "nbformat": 4,
 "nbformat_minor": 5
}
